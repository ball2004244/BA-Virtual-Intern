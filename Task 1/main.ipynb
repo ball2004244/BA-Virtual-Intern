{
 "cells": [
  {
   "cell_type": "code",
   "execution_count": 2,
   "metadata": {},
   "outputs": [],
   "source": [
    "'''MODULE IMPORT'''\n",
    "from bs4 import BeautifulSoup\n",
    "import pandas as pd \n",
    "import matplotlib.pyplot as plt\n",
    "import requests"
   ]
  },
  {
   "cell_type": "code",
   "execution_count": 14,
   "metadata": {},
   "outputs": [
    {
     "name": "stdout",
     "output_type": "stream",
     "text": [
      "Scraping page: 1\n",
      "Getting 100 reviews\n",
      "Scraping page: 2\n",
      "Getting 200 reviews\n",
      "Scraping page: 3\n",
      "Getting 300 reviews\n",
      "Scraping page: 4\n",
      "Getting 400 reviews\n",
      "Scraping page: 5\n",
      "Getting 500 reviews\n",
      "Scraping page: 6\n",
      "Getting 600 reviews\n",
      "Scraping page: 7\n",
      "Getting 700 reviews\n",
      "Scraping page: 8\n",
      "Getting 800 reviews\n",
      "Scraping page: 9\n",
      "Getting 900 reviews\n",
      "Scraping page: 10\n",
      "Getting 1000 reviews\n"
     ]
    }
   ],
   "source": [
    "'''DATA SCRAPING'''\n",
    "base_url = 'https://www.airlinequality.com/airline-reviews/british-airways'\n",
    "pages = 10 \n",
    "page_size = 100\n",
    "\n",
    "# create a containter to store customers' review from Skytrax\n",
    "reviews = []\n",
    "rate = []\n",
    "# run through each page\n",
    "\n",
    "for i in range(1, pages + 1):\n",
    "    print(f'Scraping page: {i}')\n",
    "    url = f'{base_url}/page/{i}/?sortby=post_date%3ADesc&pagesize={page_size}'\n",
    "\n",
    "    response = requests.get(url)\n",
    "\n",
    "    content = response.content \n",
    "    parsed_content = BeautifulSoup(content, 'html.parser')\n",
    "\n",
    "    # find and get all text from html \n",
    "    for para in parsed_content.find_all('div', {'class': 'text_content'}):\n",
    "        reviews.append(para.get_text())\n",
    "    \n",
    "    # find all rating from html \n",
    "    for rating in parsed_content.find_all('span', {'itemprop': 'ratingValue'}):\n",
    "        rate.append(rating.get_text())  \n",
    "    # print the scraping progress to screen\n",
    "    print(f'Getting {len(reviews)} reviews')"
   ]
  },
  {
   "cell_type": "code",
   "execution_count": 26,
   "metadata": {},
   "outputs": [
    {
     "name": "stdout",
     "output_type": "stream",
     "text": [
      "{7: 71, 1: 302, 4: 60, 2: 113, 5: 55, 6: 40, 9: 75, 3: 99, 8: 80, 10: 105}\n"
     ]
    }
   ],
   "source": [
    "'''DATA PROCESS'''\n",
    "\n",
    "'''PROCESS REVIEW'''\n",
    "clean_output = []\n",
    "# print(reviews)\n",
    "for review in reviews:\n",
    "    output = review\n",
    "    if '✅ Trip Verified |' in review: \n",
    "        output = review.replace('✅ Trip Verified |', '')\n",
    "    if 'Not Verified |' in review: \n",
    "        output = review.replace('Not Verified |', '')\n",
    "    \n",
    "    # Remove first and last white space\n",
    "    output = output.strip()\n",
    "\n",
    "    clean_output.append(output)\n",
    "\n",
    "    # print(output)\n",
    "# print(clean_output)\n",
    "\n",
    "'''PROCESS RATING'''\n",
    "def remove_items(test_list, item):\n",
    "    # using list comprehension to perform the task\n",
    "    res = [i for i in test_list if i != item]\n",
    "    return res\n",
    "\n",
    "rate = remove_items(rate, '\\n\\t\\t\\t\\t\\t\\t\\t\\t\\t\\t\\t\\t\\t5')\n",
    "\n",
    "# convert list to dict to calculate frequency\n",
    "freq_map = {}\n",
    "for rating in rate:\n",
    "    if int(rating) not in freq_map:\n",
    "        freq_map[int(rating)] = 1 \n",
    "    else: \n",
    "        freq_map[int(rating)] += 1\n",
    "\n",
    "print(freq_map)"
   ]
  },
  {
   "cell_type": "code",
   "execution_count": 14,
   "metadata": {},
   "outputs": [
    {
     "data": {
      "text/html": [
       "<div>\n",
       "<style scoped>\n",
       "    .dataframe tbody tr th:only-of-type {\n",
       "        vertical-align: middle;\n",
       "    }\n",
       "\n",
       "    .dataframe tbody tr th {\n",
       "        vertical-align: top;\n",
       "    }\n",
       "\n",
       "    .dataframe thead th {\n",
       "        text-align: right;\n",
       "    }\n",
       "</style>\n",
       "<table border=\"1\" class=\"dataframe\">\n",
       "  <thead>\n",
       "    <tr style=\"text-align: right;\">\n",
       "      <th></th>\n",
       "      <th>reviews</th>\n",
       "    </tr>\n",
       "  </thead>\n",
       "  <tbody>\n",
       "    <tr>\n",
       "      <th>0</th>\n",
       "      <td>I virtually gave up on British Airways about t...</td>\n",
       "    </tr>\n",
       "    <tr>\n",
       "      <th>1</th>\n",
       "      <td>I was pleasantly surprised that the airline co...</td>\n",
       "    </tr>\n",
       "    <tr>\n",
       "      <th>2</th>\n",
       "      <td>British Airways is late, their website is atro...</td>\n",
       "    </tr>\n",
       "    <tr>\n",
       "      <th>3</th>\n",
       "      <td>Flew from Amman to London on Nov. 14 2022. Not...</td>\n",
       "    </tr>\n",
       "    <tr>\n",
       "      <th>4</th>\n",
       "      <td>This is the worst experience I have ever had w...</td>\n",
       "    </tr>\n",
       "  </tbody>\n",
       "</table>\n",
       "</div>"
      ],
      "text/plain": [
       "                                             reviews\n",
       "0  I virtually gave up on British Airways about t...\n",
       "1  I was pleasantly surprised that the airline co...\n",
       "2  British Airways is late, their website is atro...\n",
       "3  Flew from Amman to London on Nov. 14 2022. Not...\n",
       "4  This is the worst experience I have ever had w..."
      ]
     },
     "execution_count": 14,
     "metadata": {},
     "output_type": "execute_result"
    }
   ],
   "source": [
    "# convert data to csv file \n",
    "data_frame = pd.DataFrame()\n",
    "data_frame['reviews'] = clean_output \n",
    "data_frame.head()"
   ]
  },
  {
   "cell_type": "code",
   "execution_count": 15,
   "metadata": {},
   "outputs": [],
   "source": [
    "data_frame.to_csv('data/Scraped_reviews.csv')"
   ]
  },
  {
   "cell_type": "code",
   "execution_count": 34,
   "metadata": {},
   "outputs": [
    {
     "name": "stderr",
     "output_type": "stream",
     "text": [
      "No artists with labels found to put in legend.  Note that artists whose label start with an underscore are ignored when legend() is called with no argument.\n"
     ]
    },
    {
     "data": {
      "text/plain": [
       "Text(0, 0.5, 'Frequency')"
      ]
     },
     "execution_count": 34,
     "metadata": {},
     "output_type": "execute_result"
    },
    {
     "data": {
      "image/png": "[encoded data removed]",
      "text/plain": [
       "<Figure size 432x288 with 1 Axes>"
      ]
     },
     "metadata": {
      "needs_background": "light"
     },
     "output_type": "display_data"
    }
   ],
   "source": [
    "'''DATA VISUALIZATION'''\n",
    "# bar chart for rating \n",
    "keys = freq_map.keys()\n",
    "values = freq_map.values()\n",
    "plt.bar(keys, values)\n",
    "plt.title('Rating')\n",
    "plt.legend()\n",
    "plt.xlabel('Rate')\n",
    "plt.ylabel('Frequency')"
   ]
  }
 ],
 "metadata": {
  "kernelspec": {
   "display_name": "Python 3.8.10 64-bit (microsoft store)",
   "language": "python",
   "name": "python3"
  },
  "language_info": {
   "codemirror_mode": {
    "name": "ipython",
    "version": 3
   },
   "file_extension": ".py",
   "mimetype": "text/x-python",
   "name": "python",
   "nbconvert_exporter": "python",
   "pygments_lexer": "ipython3",
   "version": "3.8.10"
  },
  "orig_nbformat": 4,
  "vscode": {
   "interpreter": {
    "hash": "fcf54aa93448affa689c1db9852cca6cc1cbbc5961a1db8bc1f1c5e4b623fbec"
   }
  }
 },
 "nbformat": 4,
 "nbformat_minor": 2
}
